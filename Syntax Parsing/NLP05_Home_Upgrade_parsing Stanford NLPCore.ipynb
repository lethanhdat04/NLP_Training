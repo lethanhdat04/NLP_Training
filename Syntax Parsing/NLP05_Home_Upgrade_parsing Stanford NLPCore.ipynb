{
 "cells": [
  {
   "cell_type": "markdown",
   "metadata": {
    "id": "6dJAMJAeZaPn"
   },
   "source": [
    "### Phân tích cú pháp: Bài tập về nhà \n",
    "\n",
    "\n",
    "#### Mở rộng bài tập 2 của bài trên lớp:\n",
    "\n",
    "-\tBổ sung các trường hợp bắt lỗi của Subject-Verb\n",
    "\n",
    "-\tSửa các hàm nếu cần thiết\n",
    "\n",
    "\n",
    "Bài 2: chương trình minh hoạ kiểm lỗi cú pháp tiếng Anh đơn giản \n",
    "\n",
    "    1)\n",
    "\n",
    "    a) Cài đặt thư viện Stanford NLPCore  \n",
    "\n",
    "    b) import bộ phân tích cú pháp CoreNLPParser \n",
    "\n",
    "    2)  Phân tích cú pháp cho câu và khảo sát  cây cú pháp\n",
    "\n",
    "    a) gọi phân tích cú pháp\n",
    "\n",
    "    b) view cây \n",
    "\n",
    "    3) Qui tắc kiểm lỗi cú pháp\n",
    "\n",
    "    -\tVí dụ về Qui tắc agreement giữa Subject – Verb\n",
    "\n",
    "    -\tKiểm lỗi và đưa ra loại lỗi \n"
   ]
  },
  {
   "cell_type": "code",
   "execution_count": null,
   "metadata": {
    "id": "Kyz9WekrZaP8"
   },
   "outputs": [],
   "source": [
    "import os\n",
    "#Setpath\n",
    "\n",
    "#Set up môi trường cho corenlp  đường dẫn bên dưới đến thư mục \"stanford-corenlp-4.2.0\"\n",
    "from nltk.parse.corenlp import CoreNLPServer\n",
    "STANFORD = os.path.join(\"\", \"stanford-corenlp-4.2.0\")\n",
    "#  Giải nén và loadmodel\n",
    "model = CoreNLPServer(\n",
    "   os.path.join(STANFORD, \"stanford-corenlp-4.2.0.jar\"),\n",
    "   os.path.join(STANFORD, \"stanford-corenlp-4.2.0-models.jar\"),    \n",
    ")"
   ]
  },
  {
   "cell_type": "code",
   "execution_count": null,
   "metadata": {
    "id": "O-mpI_gvZaQI"
   },
   "outputs": [],
   "source": [
    "# Cài đặt java JDK nếu chưa có (https://www.oracle.com/java/technologies/javase-downloads.html)\n",
    "\n",
    "#Thêm biến môi trường\n",
    "import os\n",
    "java_path = \"C:/Program Files/Java/jdk-15.0.1/bin/java.exe\" #replace directory by your directory\n",
    "os.environ['JAVAHOME'] = java_path\n",
    "\n",
    "import nltk\n",
    "nltk.internals.config_java('C:/Program Files/Java/jdk-15.0.1/bin/java.exe') #replace directory by your directory"
   ]
  },
  {
   "cell_type": "code",
   "execution_count": null,
   "metadata": {
    "id": "fBEqgidWZaQN"
   },
   "outputs": [],
   "source": [
    "#install ghostscript and add path because your chunker is trying to use ghostscript to draw a parse tree of the sentence\n",
    "# https://www.ghostscript.com/download.html\n",
    "\n",
    "#Thêm biến môi trường\n",
    "import os\n",
    "ghostscript_path = \"C:/Program Files/gs/gs9.53.3/bin/gswin64c.exe\" #replace directory by your directory\n",
    "os.environ['PATH'] = ghostscript_path\n"
   ]
  },
  {
   "cell_type": "code",
   "execution_count": null,
   "metadata": {
    "id": "zuLuAwFSZaQS"
   },
   "outputs": [],
   "source": [
    "# Start the model CoreNLPServer\n",
    "model.start()"
   ]
  },
  {
   "cell_type": "code",
   "execution_count": null,
   "metadata": {
    "id": "F4jsJYhZZaQZ"
   },
   "outputs": [],
   "source": [
    "from nltk.tree import Tree\n",
    "from nltk.parse.corenlp import CoreNLPParser"
   ]
  },
  {
   "cell_type": "code",
   "execution_count": null,
   "metadata": {
    "id": "7kfmr-FAZaQc",
    "outputId": "d0ab2e08-aebe-46d7-aaa8-b1ad2f3cabaf"
   },
   "outputs": [
    {
     "name": "stdout",
     "output_type": "stream",
     "text": [
      "                        ROOT                         \n",
      "                         |                            \n",
      "                         S                           \n",
      "         ________________|_________________________   \n",
      "        |                         VP               | \n",
      "        |                 ________|___             |  \n",
      "        NP               |            NP           | \n",
      "  ______|________        |     _______|______      |  \n",
      "PRP$    JJ       NN     VBD   DT      JJ     NN    . \n",
      " |      |        |       |    |       |      |     |  \n",
      " my  english instructor were  a      good teacher  . \n",
      "\n",
      "(ROOT\n",
      "  (S\n",
      "    (NP (PRP$ my) (JJ english) (NN instructor))\n",
      "    (VP (VBD were) (NP (DT a) (JJ good) (NN teacher)))\n",
      "    (. .)))\n"
     ]
    },
    {
     "data": {
      "image/png": "[encoded data removed]",
      "text/plain": [
       "Tree('ROOT', [Tree('S', [Tree('NP', [Tree('PRP$', ['my']), Tree('JJ', ['english']), Tree('NN', ['instructor'])]), Tree('VP', [Tree('VBD', ['were']), Tree('NP', [Tree('DT', ['a']), Tree('JJ', ['good']), Tree('NN', ['teacher'])])]), Tree('.', ['.'])])])"
      ]
     },
     "execution_count": 7,
     "metadata": {
      "tags": []
     },
     "output_type": "execute_result"
    }
   ],
   "source": [
    "def parse_processing(string):\n",
    "    #Tạo parse tree\n",
    "    #ENTER YOUR CODE HERE\n",
    "    # tạo cây cú pháp dùng CoreNLPParser\n",
    "    \n",
    "    #END YOUR CODE\n",
    "    \n",
    "    #Định dạng kiểu cho parse tree\n",
    "    tree = Tree.fromstring(str(parse), \n",
    "               read_node=lambda s: \"%s\" % s, # xuất node\n",
    "               read_leaf=lambda s: \"%s\" % s.lower()) # xuất lá\n",
    "    tree.pretty_print()\n",
    "    return tree\n",
    "\n",
    "string = 'My English instructor were a good teacher.'\n",
    "tree = parse_processing(string)\n",
    "print(tree)\n",
    "tree"
   ]
  },
  {
   "cell_type": "code",
   "execution_count": null,
   "metadata": {
    "id": "5ayESwMAZaQg",
    "outputId": "9cb28c76-2828-4633-867f-69b2e40ac017"
   },
   "outputs": [
    {
     "name": "stdout",
     "output_type": "stream",
     "text": [
      "['my', 'english', 'instructor', 'were', 'a', 'good', 'teacher', '.']\n",
      "S\n"
     ]
    }
   ],
   "source": [
    "print(tree.leaves())\n",
    "for child in tree:\n",
    "    print(child.label())"
   ]
  },
  {
   "cell_type": "code",
   "execution_count": null,
   "metadata": {
    "id": "E3sdPXSrZaQl"
   },
   "outputs": [],
   "source": [
    "# phân tích dependency parsing \n",
    "from nltk.parse.corenlp import CoreNLPDependencyParser"
   ]
  },
  {
   "cell_type": "code",
   "execution_count": null,
   "metadata": {
    "id": "nqlZUtotZaQq"
   },
   "outputs": [],
   "source": [
    "#string = 'I put the book in the box on the table.'\n",
    "string = 'I have booked a very nice hotel.'\n",
    "\n",
    "#ENTER YOUR CODE HERE\n",
    "# tạo cây cú pháp dùng CoreNLPDependencyParser\n",
    "#END YOUR CODE"
   ]
  },
  {
   "cell_type": "code",
   "execution_count": null,
   "metadata": {
    "id": "DESI1FlbZaQt",
    "outputId": "24585af1-4c68-442f-c9e8-97b8c1c93e70"
   },
   "outputs": [
    {
     "data": {
      "image/png": "[encoded data removed]",
      "text/plain": [
       "Tree('booked', ['I', 'have', Tree('hotel', ['a', Tree('nice', ['very'])]), '.'])"
      ]
     },
     "execution_count": 11,
     "metadata": {
      "tags": []
     },
     "output_type": "execute_result"
    }
   ],
   "source": [
    "parse.tree()"
   ]
  },
  {
   "cell_type": "code",
   "execution_count": null,
   "metadata": {
    "id": "ph1U4cMiZaQx"
   },
   "outputs": [],
   "source": []
  },
  {
   "cell_type": "code",
   "execution_count": null,
   "metadata": {
    "id": "J6ZLgZ-OZaRY",
    "outputId": "5bb03c46-ed44-40c0-f05f-bfa77a8fd9b3"
   },
   "outputs": [
    {
     "name": "stdout",
     "output_type": "stream",
     "text": [
      "    ROOT        \n",
      "     |           \n",
      "     S          \n",
      "  ___|____       \n",
      " |        VP    \n",
      " |    ____|___   \n",
      " NP  |        NP\n",
      " |   |        |  \n",
      "PRP VBP      PRP\n",
      " |   |        |  \n",
      " i  love     you\n",
      "\n",
      "2\n"
     ]
    },
    {
     "data": {
      "image/png": "[encoded data removed]",
      "text/plain": [
       "Tree('ROOT', [Tree('S', [Tree('NP', [Tree('PRP', ['i'])]), Tree('VP', [Tree('VBP', ['love']), Tree('NP', [Tree('PRP', ['you'])])])])])"
      ]
     },
     "execution_count": 12,
     "metadata": {
      "tags": []
     },
     "output_type": "execute_result"
    }
   ],
   "source": [
    "#sent = 'she love a teacher very much '\n",
    "#sent = 'actually her friend loves the teacher very much '\n",
    "#sent = 'she loves'\n",
    "#sent = 'actually she loves the teacher very much '\n",
    "#sent = 'she want to teach this lecture'\n",
    "sent = 'I love you'\n",
    "def parse(sent):\n",
    "    sent = sent.lower()\n",
    "    tree = parse_processing(sent)\n",
    "    return tree\n",
    "\n",
    "tree = parse(sent)\n",
    "print(len(tree[0]))\n",
    "tree"
   ]
  },
  {
   "cell_type": "code",
   "execution_count": null,
   "metadata": {
    "id": "n91ADM7xZaRd"
   },
   "outputs": [],
   "source": [
    "\n",
    "def getNP_VP(tree):\n",
    "    NP=0\n",
    "    VP=0\n",
    "    for i in range(len(tree[0])):\n",
    "        if tree[0][i].label()=='NP':\n",
    "            NP = tree[0][i]\n",
    "        if NP!=0 and tree[0][i].label()=='VP':\n",
    "            VP = tree[0][i]\n",
    "    return NP,VP\n",
    "    "
   ]
  },
  {
   "cell_type": "code",
   "execution_count": null,
   "metadata": {
    "id": "w9Y1M3ErZaRg",
    "outputId": "dc0b2162-a395-49a1-f88b-83a0e3d4463f"
   },
   "outputs": [
    {
     "name": "stdout",
     "output_type": "stream",
     "text": [
      " NP\n",
      " |  \n",
      "PRP\n",
      " |  \n",
      " i \n",
      "\n",
      "      VP    \n",
      "  ____|___   \n",
      " |        NP\n",
      " |        |  \n",
      "VBP      PRP\n",
      " |        |  \n",
      "love     you\n",
      "\n"
     ]
    }
   ],
   "source": [
    "NP,VP = getNP_VP(tree)\n",
    "if(NP!=0): \n",
    "    NP.pretty_print()\n",
    "if(VP!=0):\n",
    "    VP.pretty_print()"
   ]
  },
  {
   "cell_type": "code",
   "execution_count": null,
   "metadata": {
    "id": "WtUU2lsIZaRk",
    "outputId": "d1606024-2cb7-43fa-d740-5b670e60638f"
   },
   "outputs": [
    {
     "name": "stdout",
     "output_type": "stream",
     "text": [
      "ROOT\n",
      "S\n",
      "NP\n",
      "PRP\n",
      "VP\n",
      "VBP\n",
      "NP\n",
      "PRP\n"
     ]
    }
   ],
   "source": [
    "a = tree.subtrees()\n",
    "for i in a:\n",
    "    print(i.label())"
   ]
  },
  {
   "cell_type": "code",
   "execution_count": null,
   "metadata": {
    "id": "xsOWbP0dZaRu",
    "outputId": "bf9b1129-59c4-4484-885d-66882e0184e8"
   },
   "outputs": [
    {
     "name": "stdout",
     "output_type": "stream",
     "text": [
      "1\n"
     ]
    }
   ],
   "source": [
    "# xác định ngôi của chủ ngữ\n",
    "'''\n",
    "1:  Ngôi thứ nhất số ít: I\n",
    "2:  Ngôi thứ nhất số nhiều: we\n",
    "3:  Ngôi thứ 2: you \n",
    "4:  Ngôi thứ 3 số ít: he, she, it\n",
    "5:   Ngôi thứ 3 số nhiều: they \n",
    "-1: không xác định (cấu trúc câu không có chủ ngữ)\n",
    "'''\n",
    "\n",
    "# xác định theo danh từ \n",
    "def get_NP_type(node):\n",
    "    subnodes = node.subtrees()\n",
    "    labels = [n.label() for n in subnodes]\n",
    "    if 'NN' in labels:\n",
    "        return 10 # singular\n",
    "    elif 'NNS' in labels:\n",
    "        return 11 # plural\n",
    "    return -1\n",
    "\n",
    "# xác định theo đại từ (pronoun)\n",
    "def get_Pronoun_type(node):\n",
    "    #ENTER YOUR CODE HERE\n",
    "    # Viết hàm trả về type of pronoun theo bảng ở trên, ngoại lệ trả về -1\n",
    "    #END YOUR CODE\n",
    "    \n",
    "print(get_Pronoun_type(NP))"
   ]
  },
  {
   "cell_type": "code",
   "execution_count": null,
   "metadata": {
    "id": "CA0JtFe6ZaSC"
   },
   "outputs": [],
   "source": [
    "# lấy type của verb\n",
    "'''\n",
    "1: VB: Verb, base form\n",
    "2: VBP: Verb, non-3rd person singular present\n",
    "3: VBZ: Verb, 3rd person singular present\n",
    "4: VBD: Verb, past tense\n",
    "5: VBG: Verb, gerund or present participle\n",
    "6: VBN: Verb, past participle\n",
    "'''\n",
    "\n",
    "vdict={'VB':1, 'VBP':2,'VBZ':3,'VBD':4,'VBG':5,'VBN':6}\n",
    "\n",
    "def get_verb_type(node):\n",
    "    #ENTER YOUR CODE HERE\n",
    "    # Viết hàm trả về type of verb theo bảng ở trên, ngoại lệ trả về -1\n",
    "    #END YOUR CODE"
   ]
  },
  {
   "cell_type": "code",
   "execution_count": null,
   "metadata": {
    "id": "V6RuR3exZaSI",
    "outputId": "84d4ee2a-6df3-485a-b491-f0bcb6e84b32"
   },
   "outputs": [
    {
     "name": "stdout",
     "output_type": "stream",
     "text": [
      "      VP    \n",
      "  ____|___   \n",
      " |        NP\n",
      " |        |  \n",
      "VBP      PRP\n",
      " |        |  \n",
      "love     you\n",
      "\n"
     ]
    },
    {
     "data": {
      "text/plain": [
       "2"
      ]
     },
     "execution_count": 20,
     "metadata": {
      "tags": []
     },
     "output_type": "execute_result"
    }
   ],
   "source": [
    "VP.pretty_print()\n",
    "get_verb_type(VP)"
   ]
  },
  {
   "cell_type": "code",
   "execution_count": null,
   "metadata": {
    "id": "0Py8TzviZaSU"
   },
   "outputs": [],
   "source": [
    "# xác định nguyên tắc lỗi\n",
    "'''\n",
    "NP:4 -> VP:3\n",
    "'''\n",
    "# bổ sung thêm các luật matching giữa Subject và VP ở đây\n",
    "match={1:[2],4:[3],10:[3],11:[2]}\n",
    "def check_grammar(sent):\n",
    "    #ENTER YOUR CODE HERE\n",
    "    # Viết hàm check lỗi grammar theo nguyên tắc lỗi được định nghĩa  NP:4 -> VP:3\n",
    "    # Trường hợp NP và VP đồng thời bằng 0 trả về \"no idea\"\n",
    "    # Nếu k có lỗi grammar trả về 'ok', lỗi trả về 'error'\n",
    "    \n",
    "    #END YOUR CODE"
   ]
  },
  {
   "cell_type": "code",
   "execution_count": null,
   "metadata": {
    "id": "dLvSerMNZaSX",
    "outputId": "7eb7a28e-84f0-45d5-a5da-b86a6683b13f"
   },
   "outputs": [
    {
     "name": "stdout",
     "output_type": "stream",
     "text": [
      "          ROOT                     \n",
      "           |                        \n",
      "           S                       \n",
      "      _____|__________              \n",
      "     |                VP           \n",
      "     |            ____|____         \n",
      "     NP          |         NP      \n",
      "  ___|_____      |     ____|____    \n",
      " DT  JJ   NNS   VBZ   DT        NN \n",
      " |   |     |     |    |         |   \n",
      "the nice girls loves this     hotel\n",
      "\n",
      "          ROOT                     \n",
      "           |                        \n",
      "           S                       \n",
      "      _____|__________              \n",
      "     |                VP           \n",
      "     |            ____|____         \n",
      "     NP          |         NP      \n",
      "  ___|_____      |     ____|____    \n",
      " DT  JJ   NNS   VBZ   DT        NN \n",
      " |   |     |     |    |         |   \n",
      "the nice girls loves this     hotel\n",
      "\n",
      "-1\n",
      "10\n",
      "          ROOT                     \n",
      "           |                        \n",
      "           S                       \n",
      "      _____|__________              \n",
      "     |                VP           \n",
      "     |            ____|____         \n",
      "     NP          |         NP      \n",
      "  ___|_____      |     ____|____    \n",
      " DT  JJ   NNS   VBZ   DT        NN \n",
      " |   |     |     |    |         |   \n",
      "the nice girls loves this     hotel\n",
      "\n"
     ]
    },
    {
     "data": {
      "text/plain": [
       "'error'"
      ]
     },
     "execution_count": 22,
     "metadata": {
      "tags": []
     },
     "output_type": "execute_result"
    }
   ],
   "source": [
    "#sent = 'she want to go to school'\n",
    "#sent = 'actualy I now wants to go to school'\n",
    "sent = 'the nice girls loves this hotel'\n",
    "tree = parse(sent)\n",
    "tree.pretty_print()\n",
    "print(get_Pronoun_type(tree[0]))\n",
    "print(get_NP_type(tree[0]))\n",
    "\n",
    "#ENTER YOUR CODE HERE\n",
    "# Check grammar của câu trên\n",
    "#END YOUR CODE"
   ]
  },
  {
   "cell_type": "code",
   "execution_count": null,
   "metadata": {
    "id": "_6rkPRlcZaSd"
   },
   "outputs": [],
   "source": []
  }
 ],
 "metadata": {
  "colab": {
   "name": "NLP05_Home_Upgrade_parsing Stanford NLPCore.ipynb",
   "provenance": []
  },
  "kernelspec": {
   "display_name": "Python 3 (ipykernel)",
   "language": "python",
   "name": "python3"
  },
  "language_info": {
   "codemirror_mode": {
    "name": "ipython",
    "version": 3
   },
   "file_extension": ".py",
   "mimetype": "text/x-python",
   "name": "python",
   "nbconvert_exporter": "python",
   "pygments_lexer": "ipython3",
   "version": "3.9.13"
  }
 },
 "nbformat": 4,
 "nbformat_minor": 1
}
