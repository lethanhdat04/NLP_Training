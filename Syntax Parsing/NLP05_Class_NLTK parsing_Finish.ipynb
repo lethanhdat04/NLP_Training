{
 "cells": [
  {
   "cell_type": "markdown",
   "metadata": {
    "id": "UVeygWASWDgk"
   },
   "source": [
    "### Phân tích cú pháp: Bài thực hành trên lớp \n",
    "\n",
    "\n",
    "* Bài 1: \n",
    "\n",
    "Sử dụng thư viện NLTK để minh hoạ phân tích cú pháp văn phạm cấu trúc  \n",
    "\n",
    "1)\tCho văn phạm CFG ví dụ, sử dụng NLTK để phân tích văn phạm cho một câu \n",
    "\n",
    "2)\tHiển thị kết quả\n",
    "\n",
    "3)\tMinh hoạ văn phạm với câu vào có nhiều hơn 1 cây kết quả phân tích \n",
    "\n",
    "4)\tMinh hoạ văn phạm phi ngữ cảnh xác suất PCFG\n"
   ]
  },
  {
   "cell_type": "code",
   "execution_count": 1,
   "metadata": {
    "executionInfo": {
     "elapsed": 2624,
     "status": "ok",
     "timestamp": 1608823379962,
     "user": {
      "displayName": "son nguyen minh",
      "photoUrl": "",
      "userId": "16436140984781449322"
     },
     "user_tz": -420
    },
    "id": "sWCcCInRWDgu"
   },
   "outputs": [],
   "source": [
    "import nltk"
   ]
  },
  {
   "cell_type": "code",
   "execution_count": 2,
   "metadata": {
    "executionInfo": {
     "elapsed": 829,
     "status": "ok",
     "timestamp": 1608823382555,
     "user": {
      "displayName": "son nguyen minh",
      "photoUrl": "",
      "userId": "16436140984781449322"
     },
     "user_tz": -420
    },
    "id": "aA-Ay8vjWDgv"
   },
   "outputs": [],
   "source": [
    "# Khởi tạo văn phạm CFG ví dụ\n",
    "grammar1 = nltk.CFG.fromstring(\"\"\"\n",
    "  S -> NP VP\n",
    "  VP -> V NP | V NP PP\n",
    "  PP -> P NP\n",
    "  V -> \"saw\" | \"ate\" | \"walked\"\n",
    "  NP -> \"John\" | \"Mary\" | \"Bob\" | Det N | Det N PP\n",
    "  Det -> \"a\" | \"an\" | \"the\" | \"my\"\n",
    "  N -> \"man\" | \"dog\" | \"cat\" | \"telescope\" | \"park\"\n",
    "  P -> \"in\" | \"on\" | \"by\" | \"with\"\n",
    "  \"\"\")"
   ]
  },
  {
   "cell_type": "code",
   "execution_count": 3,
   "metadata": {
    "colab": {
     "base_uri": "https://localhost:8080/"
    },
    "executionInfo": {
     "elapsed": 905,
     "status": "ok",
     "timestamp": 1608823389256,
     "user": {
      "displayName": "son nguyen minh",
      "photoUrl": "",
      "userId": "16436140984781449322"
     },
     "user_tz": -420
    },
    "id": "NBwiholKWDgw",
    "outputId": "1afe1fa9-459b-41a4-e11e-2ba59b6174b4"
   },
   "outputs": [
    {
     "name": "stdout",
     "output_type": "stream",
     "text": [
      "Grammar with 25 productions (start state = S)\n",
      "    S -> NP VP\n",
      "    VP -> V NP\n",
      "    VP -> V NP PP\n",
      "    PP -> P NP\n",
      "    V -> 'saw'\n",
      "    V -> 'ate'\n",
      "    V -> 'walked'\n",
      "    NP -> 'John'\n",
      "    NP -> 'Mary'\n",
      "    NP -> 'Bob'\n",
      "    NP -> Det N\n",
      "    NP -> Det N PP\n",
      "    Det -> 'a'\n",
      "    Det -> 'an'\n",
      "    Det -> 'the'\n",
      "    Det -> 'my'\n",
      "    N -> 'man'\n",
      "    N -> 'dog'\n",
      "    N -> 'cat'\n",
      "    N -> 'telescope'\n",
      "    N -> 'park'\n",
      "    P -> 'in'\n",
      "    P -> 'on'\n",
      "    P -> 'by'\n",
      "    P -> 'with'\n"
     ]
    }
   ],
   "source": [
    "# Tạo trình phân tích cú pháp sử dụng văn phạm ở trên\n",
    "parser = nltk.ChartParser(grammar1)\n",
    "print(parser.grammar())"
   ]
  },
  {
   "cell_type": "code",
   "execution_count": 4,
   "metadata": {
    "colab": {
     "base_uri": "https://localhost:8080/"
    },
    "executionInfo": {
     "elapsed": 837,
     "status": "ok",
     "timestamp": 1608823392052,
     "user": {
      "displayName": "son nguyen minh",
      "photoUrl": "",
      "userId": "16436140984781449322"
     },
     "user_tz": -420
    },
    "id": "-p3B1nOYWDgx",
    "outputId": "4bc15f4d-c9bf-42b9-c178-c7d51f4180a7"
   },
   "outputs": [
    {
     "name": "stdout",
     "output_type": "stream",
     "text": [
      "(S (NP Mary) (VP (V saw) (NP Bob)))\n",
      "      S         \n",
      "  ____|___       \n",
      " |        VP    \n",
      " |     ___|___   \n",
      " NP   V       NP\n",
      " |    |       |  \n",
      "Mary saw     Bob\n",
      "\n"
     ]
    }
   ],
   "source": [
    "# Phân tích cú pháp cho 1 câu cụ thể\n",
    "sent = 'Mary saw Bob'\n",
    "sent = sent.split()\n",
    "for tree in parser.parse(sent):\n",
    "    print(tree)\n",
    "    tree.pretty_print()"
   ]
  },
  {
   "cell_type": "markdown",
   "metadata": {
    "id": "I-G4ANdlWDgx"
   },
   "source": [
    "#### 3) Minh hoạ văn phạm với câu vào có nhiều hơn 1 cây kết quả phân tích"
   ]
  },
  {
   "cell_type": "code",
   "execution_count": 5,
   "metadata": {
    "executionInfo": {
     "elapsed": 854,
     "status": "ok",
     "timestamp": 1608823395138,
     "user": {
      "displayName": "son nguyen minh",
      "photoUrl": "",
      "userId": "16436140984781449322"
     },
     "user_tz": -420
    },
    "id": "ZluhGyEzWDgy"
   },
   "outputs": [],
   "source": [
    "# Khởi tạo văn phạm đệ qui \n",
    "grammar2 = nltk.CFG.fromstring(\"\"\"\n",
    "  S  -> NP VP\n",
    "  NP -> Det Nom | PropN | NP PP\n",
    "  Nom -> Adj Nom | N\n",
    "  VP -> V Adj | V NP | V S | V NP PP\n",
    "  PP -> P NP\n",
    "  PropN -> 'Buster' | 'Chatterer' | 'Joe'\n",
    "  Det -> 'the' | 'a'\n",
    "  N -> 'bear' | 'squirrel' | 'tree' | 'fish' | 'log'\n",
    "  Adj  -> 'angry' | 'frightened' |  'little' | 'tall'\n",
    "  V ->  'chased'  | 'saw' | 'said' | 'thought' | 'was' | 'put'\n",
    "  P -> 'on'\n",
    "  \"\"\")"
   ]
  },
  {
   "cell_type": "code",
   "execution_count": 6,
   "metadata": {
    "colab": {
     "base_uri": "https://localhost:8080/"
    },
    "executionInfo": {
     "elapsed": 849,
     "status": "ok",
     "timestamp": 1608823397785,
     "user": {
      "displayName": "son nguyen minh",
      "photoUrl": "",
      "userId": "16436140984781449322"
     },
     "user_tz": -420
    },
    "id": "K22dPrARWDgy",
    "outputId": "e1e71cc9-6d57-4733-ff1a-9a14e502f03b"
   },
   "outputs": [
    {
     "name": "stdout",
     "output_type": "stream",
     "text": [
      "(S\n",
      "  (NP (Det the) (Nom (N bear)))\n",
      "  (VP\n",
      "    (V chased)\n",
      "    (NP (Det the) (Nom (N squirrel)))\n",
      "    (PP (P on) (NP (Det the) (Nom (N tree))))))\n",
      "                     S                               \n",
      "      _______________|_________                       \n",
      "     |                         VP                    \n",
      "     |          _______________|__________            \n",
      "     |         |         |                PP         \n",
      "     |         |         |             ___|___        \n",
      "     NP        |         NP           |       NP     \n",
      "  ___|___      |      ___|_____       |    ___|___    \n",
      " |      Nom    |     |        Nom     |   |      Nom \n",
      " |       |     |     |         |      |   |       |   \n",
      "Det      N     V    Det        N      P  Det      N  \n",
      " |       |     |     |         |      |   |       |   \n",
      "the     bear chased the     squirrel  on the     tree\n",
      "\n",
      "(S\n",
      "  (NP (Det the) (Nom (N bear)))\n",
      "  (VP\n",
      "    (V chased)\n",
      "    (NP\n",
      "      (NP (Det the) (Nom (N squirrel)))\n",
      "      (PP (P on) (NP (Det the) (Nom (N tree)))))))\n",
      "                     S                               \n",
      "      _______________|_________                       \n",
      "     |                         VP                    \n",
      "     |          _______________|______                \n",
      "     |         |                      NP             \n",
      "     |         |          ____________|___            \n",
      "     |         |         |                PP         \n",
      "     |         |         |             ___|___        \n",
      "     NP        |         NP           |       NP     \n",
      "  ___|___      |      ___|_____       |    ___|___    \n",
      " |      Nom    |     |        Nom     |   |      Nom \n",
      " |       |     |     |         |      |   |       |   \n",
      "Det      N     V    Det        N      P  Det      N  \n",
      " |       |     |     |         |      |   |       |   \n",
      "the     bear chased the     squirrel  on the     tree\n",
      "\n"
     ]
    }
   ],
   "source": [
    "# Tạo trình phân tích cú pháp sử dụng văn phạm grammar2\n",
    "parser = nltk.ChartParser(grammar2)\n",
    "\n",
    "# Phân tích cú pháp cho câu ví dụ\n",
    "#sent = 'the angry bear chased the frightened little squirrel'\n",
    "sent = 'the bear chased the squirrel on the tree'\n",
    "sent = sent.split()\n",
    "trees = parser.parse(sent)\n",
    "for tree in trees:\n",
    "    print(tree)\n",
    "    tree.pretty_print()"
   ]
  },
  {
   "cell_type": "markdown",
   "metadata": {
    "id": "AQ3DOWxYWDgz"
   },
   "source": [
    "#### 4) Minh hoạ văn phạm phi ngữ cảnh xác suất PCFG"
   ]
  },
  {
   "cell_type": "code",
   "execution_count": 7,
   "metadata": {
    "executionInfo": {
     "elapsed": 926,
     "status": "ok",
     "timestamp": 1608823402170,
     "user": {
      "displayName": "son nguyen minh",
      "photoUrl": "",
      "userId": "16436140984781449322"
     },
     "user_tz": -420
    },
    "id": "5iP1TUK0WDgz"
   },
   "outputs": [],
   "source": [
    "# xây dựng văn phạm\n",
    "grammar = nltk.PCFG.fromstring('''\n",
    "  NP  -> NNS [0.5] | JJ NNS [0.3] | NP CC NP [0.2]\n",
    "  NNS -> \"cats\" [0.1] | \"dogs\" [0.2] | \"mice\" [0.3] | NNS CC NNS [0.4]\n",
    "  JJ  -> \"big\" [0.4] | \"small\" [0.6]\n",
    "  CC  -> \"and\" [0.9] | \"or\" [0.1]\n",
    "  ''')\n",
    "viterbi_parser = nltk.ViterbiParser(grammar)\n",
    "parser = nltk.ChartParser(grammar)"
   ]
  },
  {
   "cell_type": "code",
   "execution_count": 8,
   "metadata": {
    "colab": {
     "base_uri": "https://localhost:8080/"
    },
    "executionInfo": {
     "elapsed": 890,
     "status": "ok",
     "timestamp": 1608823404082,
     "user": {
      "displayName": "son nguyen minh",
      "photoUrl": "",
      "userId": "16436140984781449322"
     },
     "user_tz": -420
    },
    "id": "5Qy_OnC8WDgz",
    "outputId": "0311b24f-4320-444b-9cea-6425149ffb0a"
   },
   "outputs": [
    {
     "name": "stdout",
     "output_type": "stream",
     "text": [
      "(NP (JJ big) (NNS (NNS cats) (CC and) (NNS dogs))) (p=0.000864)\n",
      "          NP         \n",
      "  ________|___        \n",
      " |           NNS     \n",
      " |    ________|___    \n",
      " JJ NNS       CC NNS \n",
      " |   |        |   |   \n",
      "big cats     and dogs\n",
      "\n"
     ]
    }
   ],
   "source": [
    "sent = 'big cats and dogs'\n",
    "sent = sent.split()\n",
    "\n",
    "# Phân tích cú pháp với ViterbiParser\n",
    "trees = viterbi_parser.parse(sent)\n",
    "for tree in trees:\n",
    "    print(tree)\n",
    "    tree.pretty_print()"
   ]
  },
  {
   "cell_type": "code",
   "execution_count": 9,
   "metadata": {
    "colab": {
     "base_uri": "https://localhost:8080/"
    },
    "executionInfo": {
     "elapsed": 870,
     "status": "ok",
     "timestamp": 1608823406177,
     "user": {
      "displayName": "son nguyen minh",
      "photoUrl": "",
      "userId": "16436140984781449322"
     },
     "user_tz": -420
    },
    "id": "q9KnhV-_WDg0",
    "outputId": "f270144a-4408-4f5d-cb10-c13964fedecf"
   },
   "outputs": [
    {
     "name": "stdout",
     "output_type": "stream",
     "text": [
      "(NP (JJ big) (NNS (NNS cats) (CC and) (NNS dogs)))\n",
      "          NP         \n",
      "  ________|___        \n",
      " |           NNS     \n",
      " |    ________|___    \n",
      " JJ NNS       CC NNS \n",
      " |   |        |   |   \n",
      "big cats     and dogs\n",
      "\n",
      "(NP (NP (JJ big) (NNS cats)) (CC and) (NP (NNS dogs)))\n",
      "         NP          \n",
      "      ___|________    \n",
      "     NP       |   NP \n",
      "  ___|___     |   |   \n",
      " JJ     NNS   CC NNS \n",
      " |       |    |   |   \n",
      "big     cats and dogs\n",
      "\n"
     ]
    }
   ],
   "source": [
    "# Phân tích cú pháp với ChartParser\n",
    "trees = parser.parse(sent)\n",
    "for tree in trees:\n",
    "    print(tree)\n",
    "    tree.pretty_print()"
   ]
  },
  {
   "cell_type": "code",
   "execution_count": null,
   "metadata": {
    "id": "IrXOcTCrWDg0"
   },
   "outputs": [],
   "source": []
  }
 ],
 "metadata": {
  "colab": {
   "name": "NLP05_Class_NLTK parsing_Finish.ipynb",
   "provenance": []
  },
  "kernelspec": {
   "display_name": "Python 3 (ipykernel)",
   "language": "python",
   "name": "python3"
  },
  "language_info": {
   "codemirror_mode": {
    "name": "ipython",
    "version": 3
   },
   "file_extension": ".py",
   "mimetype": "text/x-python",
   "name": "python",
   "nbconvert_exporter": "python",
   "pygments_lexer": "ipython3",
   "version": "3.9.13"
  }
 },
 "nbformat": 4,
 "nbformat_minor": 1
}
